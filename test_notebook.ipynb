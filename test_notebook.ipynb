{
 "cells": [
  {
   "cell_type": "code",
   "execution_count": 1,
   "metadata": {},
   "outputs": [
    {
     "name": "stdout",
     "output_type": "stream",
     "text": [
      "One Thousand Two Hundred  and Fifty Seven   Rupees. Three Seven Paisa Only.\n"
     ]
    }
   ],
   "source": [
    "number = 1257.37\n",
    "number = str(number).split('.')\n",
    "no = number[0]\n",
    "point = number[1]\n",
    "hundred = ''\n",
    "digits_1 = len(no)\n",
    "i = 0\n",
    "str_list = []\n",
    "words = {'0':'', '1':'One', '2':'Two', '3':'Three', '4':'Four', '5':'Five', '6':'Six', '7':'Seven', '8':'Eight', '9':'Nine', '10':'Ten', '11':'Eleven', '12':'Twelve', '13':'Thirteen', '14':'Fourteen', '15':'Fifteen', '16':'Sixteen', '17':'Seventeen', '18':'Eighteen', '19':'Nineteen', '20':'Twenty', '30':'Thirty', '40':'Forty', '50':'Fifty', '60':'Sixty', '70':'Seventy', '80':'Eighty', '90':'Ninety'}\n",
    "digits = ['', 'Hundred', 'Thousand', 'Lakh', 'Crore']\n",
    "\n",
    "while i < digits_1:\n",
    "    divider = 10 if i == 2 else 100\n",
    "    number = int(no) % divider\n",
    "    no = int(no) // divider\n",
    "    i += 1 if divider == 10 else 2\n",
    "    \n",
    "    if number:\n",
    "        counter = len(str_list)\n",
    "        plural = 's' if counter and number > 9 else ''\n",
    "        hundred = ' and ' if counter == 1 and str_list[0] else ''\n",
    "        \n",
    "        if number < 21:\n",
    "            str_list.append(words[str(number)] + ' ' + digits[counter] + plural + ' ' + hundred)\n",
    "        else:\n",
    "            str_list.append(words[str(number // 10 * 10)] + ' ' + words[str(number % 10)] + ' ' + digits[counter] + plural + ' ' + hundred)\n",
    "    else:\n",
    "        str_list.append('')\n",
    "        \n",
    "str_list = str_list[::-1]\n",
    "result = ''.join(str_list)\n",
    "points = \". \" + words[str(int(point) // 10)] + ' ' + words[str(int(point) % 10)] if point else ''\n",
    "print(result + ' Rupees' + points + ' Paisa Only.')\n"
   ]
  },
  {
   "cell_type": "code",
   "execution_count": 2,
   "metadata": {},
   "outputs": [
    {
     "ename": "AttributeError",
     "evalue": "module 'requests' has no attribute 'GET'",
     "output_type": "error",
     "traceback": [
      "\u001b[1;31m---------------------------------------------------------------------------\u001b[0m",
      "\u001b[1;31mAttributeError\u001b[0m                            Traceback (most recent call last)",
      "Cell \u001b[1;32mIn[2], line 49\u001b[0m\n\u001b[0;32m     47\u001b[0m num \u001b[39m=\u001b[39m \u001b[39m0\u001b[39m  \u001b[39m# get your number\u001b[39;00m\n\u001b[0;32m     48\u001b[0m \u001b[39m# replace this with whatever you're using to get your number\u001b[39;00m\n\u001b[1;32m---> 49\u001b[0m \u001b[39mif\u001b[39;00m \u001b[39m'\u001b[39m\u001b[39mnumber\u001b[39m\u001b[39m'\u001b[39m \u001b[39min\u001b[39;00m requests\u001b[39m.\u001b[39;49mGET:\n\u001b[0;32m     50\u001b[0m     num \u001b[39m=\u001b[39m \u001b[39mint\u001b[39m(requests\u001b[39m.\u001b[39mGET[\u001b[39m'\u001b[39m\u001b[39mnumber\u001b[39m\u001b[39m'\u001b[39m])\n\u001b[0;32m     52\u001b[0m \u001b[39m# Convert your number (could be a string of unicode, not necessarily a digit) into a string and split it\u001b[39;00m\n\u001b[0;32m     53\u001b[0m \u001b[39m# to get an array of characters.\u001b[39;00m\n",
      "\u001b[1;31mAttributeError\u001b[0m: module 'requests' has no attribute 'GET'"
     ]
    }
   ],
   "source": [
    "import requests\n",
    "def convert_nos(nos):\n",
    "    n = ''\n",
    "    if nos == \"०\":\n",
    "        n = 0\n",
    "    elif nos == \"१\":\n",
    "        n = 1\n",
    "    elif nos == \"२\":\n",
    "        n = 2\n",
    "    elif nos == \"३\":\n",
    "        n = 3\n",
    "    elif nos == \"४\":\n",
    "        n = 4\n",
    "    elif nos == \"५\":\n",
    "        n = 5\n",
    "    elif nos == \"६\":\n",
    "        n = 6\n",
    "    elif nos == \"७\":\n",
    "        n = 7\n",
    "    elif nos == \"८\":\n",
    "        n = 8\n",
    "    elif nos == \"९\":\n",
    "        n = 9\n",
    "    elif nos == \"0\":\n",
    "        n = \"०\"\n",
    "    elif nos == \"1\":\n",
    "        n = \"१\"\n",
    "    elif nos == \"2\":\n",
    "        n = \"२\"\n",
    "    elif nos == \"3\":\n",
    "        n = \"३\"\n",
    "    elif nos == \"4\":\n",
    "        n = \"४\"\n",
    "    elif nos == \"5\":\n",
    "        n = \"५\"\n",
    "    elif nos == \"6\":\n",
    "        n = \"६\"\n",
    "    elif nos == \"7\":\n",
    "        n = \"७\"\n",
    "    elif nos == \"8\":\n",
    "        n = \"८\"\n",
    "    elif nos == \"9\":\n",
    "        n = \"९\"\n",
    "    return n\n",
    "\n",
    "\n",
    "num = 0  # get your number\n",
    "# replace this with whatever you're using to get your number\n",
    "inp = input()\n",
    "if 'number' in requests.GET:\n",
    "    num = int(requests.GET['number'])\n",
    "\n",
    "# Convert your number (could be a string of unicode, not necessarily a digit) into a string and split it\n",
    "# to get an array of characters.\n",
    "str_num = list(str(num))\n",
    "\n",
    "# For each item in your exploded string, retrieve the Nepali equivalent or vice versa.\n",
    "out = ''\n",
    "out_arr = list(map(convert_nos, str_num))\n",
    "out = ''.join(out_arr)\n",
    "print(out)\n",
    "# Also make sure your Python file is saved as a UTF-8 encoded text file\n"
   ]
  },
  {
   "cell_type": "code",
   "execution_count": 5,
   "metadata": {},
   "outputs": [
    {
     "name": "stdout",
     "output_type": "stream",
     "text": [
      "Invalid Nepali number entered.\n"
     ]
    }
   ],
   "source": [
    "nepali_to_english = {\n",
    "    '०': 0,\n",
    "    '१': 1,\n",
    "    '२': 2,\n",
    "    '३': 3,\n",
    "    '४': 4,\n",
    "    '५': 5,\n",
    "    '६': 6,\n",
    "    '७': 7,\n",
    "    '८': 8,\n",
    "    '९': 9\n",
    "}\n",
    "\n",
    "def convert_nepali_to_english(nepali_number):\n",
    "    english_number = 0\n",
    "    for digit in nepali_number:\n",
    "        if digit in nepali_to_english:\n",
    "            english_number = english_number * 10 + nepali_to_english[digit]\n",
    "        else:\n",
    "            return None  # Return None if an invalid digit is encountered\n",
    "    return english_number\n",
    "\n",
    "# Example usage\n",
    "nepali_number = input(\"Enter a Nepali number: \")\n",
    "english_number = convert_nepali_to_english(nepali_number)\n",
    "if english_number is not None:\n",
    "    print(\"English number:\", english_number)\n",
    "else:\n",
    "    print(\"Invalid Nepali number entered.\")\n"
   ]
  },
  {
   "cell_type": "code",
   "execution_count": 7,
   "metadata": {},
   "outputs": [
    {
     "name": "stdout",
     "output_type": "stream",
     "text": [
      "English number: 1234567547\n"
     ]
    }
   ],
   "source": [
    "nepali_to_english = {\n",
    "    '०': 0,\n",
    "    '१': 1,\n",
    "    '२': 2,\n",
    "    '३': 3,\n",
    "    '४': 4,\n",
    "    '५': 5,\n",
    "    '६': 6,\n",
    "    '७': 7,\n",
    "    '८': 8,\n",
    "    '९': 9\n",
    "}\n",
    "\n",
    "def convert_nepali_to_english(nepali_number):\n",
    "    english_number = 0\n",
    "    for digit in nepali_number:\n",
    "        if digit in nepali_to_english:\n",
    "            english_number = english_number * 10 + nepali_to_english[digit]\n",
    "    return english_number\n",
    "\n",
    "# Example usage\n",
    "nepali_number = input(\"Enter a Nepali number: \")\n",
    "nepali_number = ''.join(filter(str.isdigit, nepali_number))  # Remove non-digit characters\n",
    "if nepali_number:\n",
    "    english_number = convert_nepali_to_english(nepali_number)\n",
    "    print(\"English number:\", english_number)\n",
    "else:\n",
    "    print(\"Invalid Nepali number entered.\")\n"
   ]
  },
  {
   "cell_type": "code",
   "execution_count": 11,
   "metadata": {},
   "outputs": [
    {
     "ename": "AttributeError",
     "evalue": "'NoneType' object has no attribute 'group'",
     "output_type": "error",
     "traceback": [
      "\u001b[1;31m---------------------------------------------------------------------------\u001b[0m",
      "\u001b[1;31mAttributeError\u001b[0m                            Traceback (most recent call last)",
      "Cell \u001b[1;32mIn[11], line 9\u001b[0m\n\u001b[0;32m      6\u001b[0m source_language \u001b[39m=\u001b[39m \u001b[39m\"\u001b[39m\u001b[39men\u001b[39m\u001b[39m\"\u001b[39m  \u001b[39m# English language code\u001b[39;00m\n\u001b[0;32m      7\u001b[0m target_language \u001b[39m=\u001b[39m \u001b[39m\"\u001b[39m\u001b[39mca\u001b[39m\u001b[39m\"\u001b[39m  \u001b[39m# Nepali language code\u001b[39;00m\n\u001b[1;32m----> 9\u001b[0m translation \u001b[39m=\u001b[39m translator\u001b[39m.\u001b[39;49mtranslate(text)\n\u001b[0;32m     10\u001b[0m translated_text \u001b[39m=\u001b[39m translation\u001b[39m.\u001b[39mtext\n\u001b[0;32m     12\u001b[0m \u001b[39mprint\u001b[39m(translated_text)\n",
      "File \u001b[1;32md:\\AnacondaInstallation\\envs\\lang\\lib\\site-packages\\googletrans\\client.py:182\u001b[0m, in \u001b[0;36mTranslator.translate\u001b[1;34m(self, text, dest, src, **kwargs)\u001b[0m\n\u001b[0;32m    179\u001b[0m     \u001b[39mreturn\u001b[39;00m result\n\u001b[0;32m    181\u001b[0m origin \u001b[39m=\u001b[39m text\n\u001b[1;32m--> 182\u001b[0m data \u001b[39m=\u001b[39m \u001b[39mself\u001b[39;49m\u001b[39m.\u001b[39;49m_translate(text, dest, src, kwargs)\n\u001b[0;32m    184\u001b[0m \u001b[39m# this code will be updated when the format is changed.\u001b[39;00m\n\u001b[0;32m    185\u001b[0m translated \u001b[39m=\u001b[39m \u001b[39m'\u001b[39m\u001b[39m'\u001b[39m\u001b[39m.\u001b[39mjoin([d[\u001b[39m0\u001b[39m] \u001b[39mif\u001b[39;00m d[\u001b[39m0\u001b[39m] \u001b[39melse\u001b[39;00m \u001b[39m'\u001b[39m\u001b[39m'\u001b[39m \u001b[39mfor\u001b[39;00m d \u001b[39min\u001b[39;00m data[\u001b[39m0\u001b[39m]])\n",
      "File \u001b[1;32md:\\AnacondaInstallation\\envs\\lang\\lib\\site-packages\\googletrans\\client.py:78\u001b[0m, in \u001b[0;36mTranslator._translate\u001b[1;34m(self, text, dest, src, override)\u001b[0m\n\u001b[0;32m     77\u001b[0m \u001b[39mdef\u001b[39;00m \u001b[39m_translate\u001b[39m(\u001b[39mself\u001b[39m, text, dest, src, override):\n\u001b[1;32m---> 78\u001b[0m     token \u001b[39m=\u001b[39m \u001b[39mself\u001b[39;49m\u001b[39m.\u001b[39;49mtoken_acquirer\u001b[39m.\u001b[39;49mdo(text)\n\u001b[0;32m     79\u001b[0m     params \u001b[39m=\u001b[39m utils\u001b[39m.\u001b[39mbuild_params(query\u001b[39m=\u001b[39mtext, src\u001b[39m=\u001b[39msrc, dest\u001b[39m=\u001b[39mdest,\n\u001b[0;32m     80\u001b[0m                                 token\u001b[39m=\u001b[39mtoken, override\u001b[39m=\u001b[39moverride)\n\u001b[0;32m     82\u001b[0m     url \u001b[39m=\u001b[39m urls\u001b[39m.\u001b[39mTRANSLATE\u001b[39m.\u001b[39mformat(host\u001b[39m=\u001b[39m\u001b[39mself\u001b[39m\u001b[39m.\u001b[39m_pick_service_url())\n",
      "File \u001b[1;32md:\\AnacondaInstallation\\envs\\lang\\lib\\site-packages\\googletrans\\gtoken.py:194\u001b[0m, in \u001b[0;36mTokenAcquirer.do\u001b[1;34m(self, text)\u001b[0m\n\u001b[0;32m    193\u001b[0m \u001b[39mdef\u001b[39;00m \u001b[39mdo\u001b[39m(\u001b[39mself\u001b[39m, text):\n\u001b[1;32m--> 194\u001b[0m     \u001b[39mself\u001b[39;49m\u001b[39m.\u001b[39;49m_update()\n\u001b[0;32m    195\u001b[0m     tk \u001b[39m=\u001b[39m \u001b[39mself\u001b[39m\u001b[39m.\u001b[39macquire(text)\n\u001b[0;32m    196\u001b[0m     \u001b[39mreturn\u001b[39;00m tk\n",
      "File \u001b[1;32md:\\AnacondaInstallation\\envs\\lang\\lib\\site-packages\\googletrans\\gtoken.py:62\u001b[0m, in \u001b[0;36mTokenAcquirer._update\u001b[1;34m(self)\u001b[0m\n\u001b[0;32m     59\u001b[0m     \u001b[39mreturn\u001b[39;00m\n\u001b[0;32m     61\u001b[0m \u001b[39m# this will be the same as python code after stripping out a reserved word 'var'\u001b[39;00m\n\u001b[1;32m---> 62\u001b[0m code \u001b[39m=\u001b[39m \u001b[39mself\u001b[39;49m\u001b[39m.\u001b[39;49mRE_TKK\u001b[39m.\u001b[39;49msearch(r\u001b[39m.\u001b[39;49mtext)\u001b[39m.\u001b[39;49mgroup(\u001b[39m1\u001b[39m)\u001b[39m.\u001b[39mreplace(\u001b[39m'\u001b[39m\u001b[39mvar \u001b[39m\u001b[39m'\u001b[39m, \u001b[39m'\u001b[39m\u001b[39m'\u001b[39m)\n\u001b[0;32m     63\u001b[0m \u001b[39m# unescape special ascii characters such like a \\x3d(=)\u001b[39;00m\n\u001b[0;32m     64\u001b[0m code \u001b[39m=\u001b[39m code\u001b[39m.\u001b[39mencode()\u001b[39m.\u001b[39mdecode(\u001b[39m'\u001b[39m\u001b[39municode-escape\u001b[39m\u001b[39m'\u001b[39m)\n",
      "\u001b[1;31mAttributeError\u001b[0m: 'NoneType' object has no attribute 'group'"
     ]
    }
   ],
   "source": [
    "from gtts import gTTS\n",
    "from googletrans import Translator\n",
    "\n",
    "translator = Translator()\n",
    "text = \"Hello, how are you?\"\n",
    "source_language = \"en\"  # English language code\n",
    "target_language = \"ca\"  # Nepali language code\n",
    "\n",
    "translation = translator.translate(text)\n",
    "translated_text = translation.text\n",
    "\n",
    "print(translated_text)\n"
   ]
  },
  {
   "cell_type": "code",
   "execution_count": 12,
   "metadata": {},
   "outputs": [
    {
     "ename": "AttributeError",
     "evalue": "'NoneType' object has no attribute 'group'",
     "output_type": "error",
     "traceback": [
      "\u001b[1;31m---------------------------------------------------------------------------\u001b[0m",
      "\u001b[1;31mAttributeError\u001b[0m                            Traceback (most recent call last)",
      "Cell \u001b[1;32mIn[12], line 4\u001b[0m\n\u001b[0;32m      1\u001b[0m \u001b[39mfrom\u001b[39;00m \u001b[39mgoogletrans\u001b[39;00m \u001b[39mimport\u001b[39;00m Translator\n\u001b[0;32m      3\u001b[0m translator \u001b[39m=\u001b[39m Translator()\n\u001b[1;32m----> 4\u001b[0m translated \u001b[39m=\u001b[39m translator\u001b[39m.\u001b[39;49mtranslate(\u001b[39m'\u001b[39;49m\u001b[39mБороди́нское сраже́ние\u001b[39;49m\u001b[39m'\u001b[39;49m)\n\u001b[0;32m      6\u001b[0m \u001b[39mprint\u001b[39m(translated\u001b[39m.\u001b[39mtext)\n",
      "File \u001b[1;32md:\\AnacondaInstallation\\envs\\lang\\lib\\site-packages\\googletrans\\client.py:182\u001b[0m, in \u001b[0;36mTranslator.translate\u001b[1;34m(self, text, dest, src, **kwargs)\u001b[0m\n\u001b[0;32m    179\u001b[0m     \u001b[39mreturn\u001b[39;00m result\n\u001b[0;32m    181\u001b[0m origin \u001b[39m=\u001b[39m text\n\u001b[1;32m--> 182\u001b[0m data \u001b[39m=\u001b[39m \u001b[39mself\u001b[39;49m\u001b[39m.\u001b[39;49m_translate(text, dest, src, kwargs)\n\u001b[0;32m    184\u001b[0m \u001b[39m# this code will be updated when the format is changed.\u001b[39;00m\n\u001b[0;32m    185\u001b[0m translated \u001b[39m=\u001b[39m \u001b[39m'\u001b[39m\u001b[39m'\u001b[39m\u001b[39m.\u001b[39mjoin([d[\u001b[39m0\u001b[39m] \u001b[39mif\u001b[39;00m d[\u001b[39m0\u001b[39m] \u001b[39melse\u001b[39;00m \u001b[39m'\u001b[39m\u001b[39m'\u001b[39m \u001b[39mfor\u001b[39;00m d \u001b[39min\u001b[39;00m data[\u001b[39m0\u001b[39m]])\n",
      "File \u001b[1;32md:\\AnacondaInstallation\\envs\\lang\\lib\\site-packages\\googletrans\\client.py:78\u001b[0m, in \u001b[0;36mTranslator._translate\u001b[1;34m(self, text, dest, src, override)\u001b[0m\n\u001b[0;32m     77\u001b[0m \u001b[39mdef\u001b[39;00m \u001b[39m_translate\u001b[39m(\u001b[39mself\u001b[39m, text, dest, src, override):\n\u001b[1;32m---> 78\u001b[0m     token \u001b[39m=\u001b[39m \u001b[39mself\u001b[39;49m\u001b[39m.\u001b[39;49mtoken_acquirer\u001b[39m.\u001b[39;49mdo(text)\n\u001b[0;32m     79\u001b[0m     params \u001b[39m=\u001b[39m utils\u001b[39m.\u001b[39mbuild_params(query\u001b[39m=\u001b[39mtext, src\u001b[39m=\u001b[39msrc, dest\u001b[39m=\u001b[39mdest,\n\u001b[0;32m     80\u001b[0m                                 token\u001b[39m=\u001b[39mtoken, override\u001b[39m=\u001b[39moverride)\n\u001b[0;32m     82\u001b[0m     url \u001b[39m=\u001b[39m urls\u001b[39m.\u001b[39mTRANSLATE\u001b[39m.\u001b[39mformat(host\u001b[39m=\u001b[39m\u001b[39mself\u001b[39m\u001b[39m.\u001b[39m_pick_service_url())\n",
      "File \u001b[1;32md:\\AnacondaInstallation\\envs\\lang\\lib\\site-packages\\googletrans\\gtoken.py:194\u001b[0m, in \u001b[0;36mTokenAcquirer.do\u001b[1;34m(self, text)\u001b[0m\n\u001b[0;32m    193\u001b[0m \u001b[39mdef\u001b[39;00m \u001b[39mdo\u001b[39m(\u001b[39mself\u001b[39m, text):\n\u001b[1;32m--> 194\u001b[0m     \u001b[39mself\u001b[39;49m\u001b[39m.\u001b[39;49m_update()\n\u001b[0;32m    195\u001b[0m     tk \u001b[39m=\u001b[39m \u001b[39mself\u001b[39m\u001b[39m.\u001b[39macquire(text)\n\u001b[0;32m    196\u001b[0m     \u001b[39mreturn\u001b[39;00m tk\n",
      "File \u001b[1;32md:\\AnacondaInstallation\\envs\\lang\\lib\\site-packages\\googletrans\\gtoken.py:62\u001b[0m, in \u001b[0;36mTokenAcquirer._update\u001b[1;34m(self)\u001b[0m\n\u001b[0;32m     59\u001b[0m     \u001b[39mreturn\u001b[39;00m\n\u001b[0;32m     61\u001b[0m \u001b[39m# this will be the same as python code after stripping out a reserved word 'var'\u001b[39;00m\n\u001b[1;32m---> 62\u001b[0m code \u001b[39m=\u001b[39m \u001b[39mself\u001b[39;49m\u001b[39m.\u001b[39;49mRE_TKK\u001b[39m.\u001b[39;49msearch(r\u001b[39m.\u001b[39;49mtext)\u001b[39m.\u001b[39;49mgroup(\u001b[39m1\u001b[39m)\u001b[39m.\u001b[39mreplace(\u001b[39m'\u001b[39m\u001b[39mvar \u001b[39m\u001b[39m'\u001b[39m, \u001b[39m'\u001b[39m\u001b[39m'\u001b[39m)\n\u001b[0;32m     63\u001b[0m \u001b[39m# unescape special ascii characters such like a \\x3d(=)\u001b[39;00m\n\u001b[0;32m     64\u001b[0m code \u001b[39m=\u001b[39m code\u001b[39m.\u001b[39mencode()\u001b[39m.\u001b[39mdecode(\u001b[39m'\u001b[39m\u001b[39municode-escape\u001b[39m\u001b[39m'\u001b[39m)\n",
      "\u001b[1;31mAttributeError\u001b[0m: 'NoneType' object has no attribute 'group'"
     ]
    }
   ],
   "source": [
    "from googletrans import Translator\n",
    "\n",
    "translator = Translator()\n",
    "translated = translator.translate('Бороди́нское сраже́ние')\n",
    "\n",
    "print(translated.text)\n"
   ]
  },
  {
   "cell_type": "code",
   "execution_count": 18,
   "metadata": {},
   "outputs": [
    {
     "name": "stdout",
     "output_type": "stream",
     "text": [
      "मेरो शैक्षिक पृष्ठभूमिमा मध्यवर्तीको रूपमा पूर्व - ईन्जिनियरिंग समावेश छ तर मेरो व्यावसायिक डिग्री टेक्सटाइल डिजाइन हो, र म लगभग 7 बर्षदेखि काम गर्दैछु । जब म संसारको भविष्यलाई यति धेरै आईटी चालित भएको देख्छु, म वास्तवमै डाटा विज्ञान र विश्लेषण/कोडिंगको साथ कसरी सुरू गर्न सक्छु?\n"
     ]
    }
   ],
   "source": [
    "from translate import Translator\n",
    "translator= Translator(to_lang=\"ne\")\n",
    "translation = translator.translate(\"My educational background includes Pre-engineering as intermediate but my professional degree is Textile Design, and i have been working for almost 7 years. As i see the future of the world being so much IT driven, how should i really begin with Data Science and Analysis/Coding.\")\n",
    "print(translation)"
   ]
  }
 ],
 "metadata": {
  "kernelspec": {
   "display_name": "lang",
   "language": "python",
   "name": "python3"
  },
  "language_info": {
   "codemirror_mode": {
    "name": "ipython",
    "version": 3
   },
   "file_extension": ".py",
   "mimetype": "text/x-python",
   "name": "python",
   "nbconvert_exporter": "python",
   "pygments_lexer": "ipython3",
   "version": "3.9.16"
  },
  "orig_nbformat": 4
 },
 "nbformat": 4,
 "nbformat_minor": 2
}
