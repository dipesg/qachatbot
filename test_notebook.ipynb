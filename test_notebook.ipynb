{
 "cells": [
  {
   "cell_type": "code",
   "execution_count": 1,
   "metadata": {},
   "outputs": [
    {
     "name": "stdout",
     "output_type": "stream",
     "text": [
      "One Thousand Two Hundred  and Fifty Seven   Rupees. Three Seven Paisa Only.\n"
     ]
    }
   ],
   "source": [
    "number = 1257.37\n",
    "number = str(number).split('.')\n",
    "no = number[0]\n",
    "point = number[1]\n",
    "hundred = ''\n",
    "digits_1 = len(no)\n",
    "i = 0\n",
    "str_list = []\n",
    "words = {'0':'', '1':'One', '2':'Two', '3':'Three', '4':'Four', '5':'Five', '6':'Six', '7':'Seven', '8':'Eight', '9':'Nine', '10':'Ten', '11':'Eleven', '12':'Twelve', '13':'Thirteen', '14':'Fourteen', '15':'Fifteen', '16':'Sixteen', '17':'Seventeen', '18':'Eighteen', '19':'Nineteen', '20':'Twenty', '30':'Thirty', '40':'Forty', '50':'Fifty', '60':'Sixty', '70':'Seventy', '80':'Eighty', '90':'Ninety'}\n",
    "digits = ['', 'Hundred', 'Thousand', 'Lakh', 'Crore']\n",
    "\n",
    "while i < digits_1:\n",
    "    divider = 10 if i == 2 else 100\n",
    "    number = int(no) % divider\n",
    "    no = int(no) // divider\n",
    "    i += 1 if divider == 10 else 2\n",
    "    \n",
    "    if number:\n",
    "        counter = len(str_list)\n",
    "        plural = 's' if counter and number > 9 else ''\n",
    "        hundred = ' and ' if counter == 1 and str_list[0] else ''\n",
    "        \n",
    "        if number < 21:\n",
    "            str_list.append(words[str(number)] + ' ' + digits[counter] + plural + ' ' + hundred)\n",
    "        else:\n",
    "            str_list.append(words[str(number // 10 * 10)] + ' ' + words[str(number % 10)] + ' ' + digits[counter] + plural + ' ' + hundred)\n",
    "    else:\n",
    "        str_list.append('')\n",
    "        \n",
    "str_list = str_list[::-1]\n",
    "result = ''.join(str_list)\n",
    "points = \". \" + words[str(int(point) // 10)] + ' ' + words[str(int(point) % 10)] if point else ''\n",
    "print(result + ' Rupees' + points + ' Paisa Only.')\n"
   ]
  },
  {
   "cell_type": "code",
   "execution_count": 2,
   "metadata": {},
   "outputs": [
    {
     "ename": "AttributeError",
     "evalue": "module 'requests' has no attribute 'GET'",
     "output_type": "error",
     "traceback": [
      "\u001b[1;31m---------------------------------------------------------------------------\u001b[0m",
      "\u001b[1;31mAttributeError\u001b[0m                            Traceback (most recent call last)",
      "Cell \u001b[1;32mIn[2], line 49\u001b[0m\n\u001b[0;32m     47\u001b[0m num \u001b[39m=\u001b[39m \u001b[39m0\u001b[39m  \u001b[39m# get your number\u001b[39;00m\n\u001b[0;32m     48\u001b[0m \u001b[39m# replace this with whatever you're using to get your number\u001b[39;00m\n\u001b[1;32m---> 49\u001b[0m \u001b[39mif\u001b[39;00m \u001b[39m'\u001b[39m\u001b[39mnumber\u001b[39m\u001b[39m'\u001b[39m \u001b[39min\u001b[39;00m requests\u001b[39m.\u001b[39;49mGET:\n\u001b[0;32m     50\u001b[0m     num \u001b[39m=\u001b[39m \u001b[39mint\u001b[39m(requests\u001b[39m.\u001b[39mGET[\u001b[39m'\u001b[39m\u001b[39mnumber\u001b[39m\u001b[39m'\u001b[39m])\n\u001b[0;32m     52\u001b[0m \u001b[39m# Convert your number (could be a string of unicode, not necessarily a digit) into a string and split it\u001b[39;00m\n\u001b[0;32m     53\u001b[0m \u001b[39m# to get an array of characters.\u001b[39;00m\n",
      "\u001b[1;31mAttributeError\u001b[0m: module 'requests' has no attribute 'GET'"
     ]
    }
   ],
   "source": [
    "import requests\n",
    "def convert_nos(nos):\n",
    "    n = ''\n",
    "    if nos == \"०\":\n",
    "        n = 0\n",
    "    elif nos == \"१\":\n",
    "        n = 1\n",
    "    elif nos == \"२\":\n",
    "        n = 2\n",
    "    elif nos == \"३\":\n",
    "        n = 3\n",
    "    elif nos == \"४\":\n",
    "        n = 4\n",
    "    elif nos == \"५\":\n",
    "        n = 5\n",
    "    elif nos == \"६\":\n",
    "        n = 6\n",
    "    elif nos == \"७\":\n",
    "        n = 7\n",
    "    elif nos == \"८\":\n",
    "        n = 8\n",
    "    elif nos == \"९\":\n",
    "        n = 9\n",
    "    elif nos == \"0\":\n",
    "        n = \"०\"\n",
    "    elif nos == \"1\":\n",
    "        n = \"१\"\n",
    "    elif nos == \"2\":\n",
    "        n = \"२\"\n",
    "    elif nos == \"3\":\n",
    "        n = \"३\"\n",
    "    elif nos == \"4\":\n",
    "        n = \"४\"\n",
    "    elif nos == \"5\":\n",
    "        n = \"५\"\n",
    "    elif nos == \"6\":\n",
    "        n = \"६\"\n",
    "    elif nos == \"7\":\n",
    "        n = \"७\"\n",
    "    elif nos == \"8\":\n",
    "        n = \"८\"\n",
    "    elif nos == \"9\":\n",
    "        n = \"९\"\n",
    "    return n\n",
    "\n",
    "\n",
    "num = 0  # get your number\n",
    "# replace this with whatever you're using to get your number\n",
    "inp = input()\n",
    "if 'number' in requests.GET:\n",
    "    num = int(requests.GET['number'])\n",
    "\n",
    "# Convert your number (could be a string of unicode, not necessarily a digit) into a string and split it\n",
    "# to get an array of characters.\n",
    "str_num = list(str(num))\n",
    "\n",
    "# For each item in your exploded string, retrieve the Nepali equivalent or vice versa.\n",
    "out = ''\n",
    "out_arr = list(map(convert_nos, str_num))\n",
    "out = ''.join(out_arr)\n",
    "print(out)\n",
    "# Also make sure your Python file is saved as a UTF-8 encoded text file\n"
   ]
  },
  {
   "cell_type": "code",
   "execution_count": null,
   "metadata": {},
   "outputs": [],
   "source": []
  },
  {
   "cell_type": "code",
   "execution_count": null,
   "metadata": {},
   "outputs": [],
   "source": []
  },
  {
   "cell_type": "code",
   "execution_count": null,
   "metadata": {},
   "outputs": [],
   "source": []
  }
 ],
 "metadata": {
  "kernelspec": {
   "display_name": "lang",
   "language": "python",
   "name": "python3"
  },
  "language_info": {
   "codemirror_mode": {
    "name": "ipython",
    "version": 3
   },
   "file_extension": ".py",
   "mimetype": "text/x-python",
   "name": "python",
   "nbconvert_exporter": "python",
   "pygments_lexer": "ipython3",
   "version": "3.9.16"
  },
  "orig_nbformat": 4
 },
 "nbformat": 4,
 "nbformat_minor": 2
}
